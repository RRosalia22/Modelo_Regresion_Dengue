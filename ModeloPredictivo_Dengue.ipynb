{
 "cells": [
  {
   "cell_type": "markdown",
   "id": "17c09a63",
   "metadata": {},
   "source": [
    "## Modelo Predictivo\n",
    "El objetivo de este modelo sera predecir futuros brotes de la enfermedad Dengue utilizanod una regresion multiple\n",
    "\n",
    "Utilizaremos las librerias numpy y pandas"
   ]
  },
  {
   "cell_type": "code",
   "execution_count": 1,
   "id": "d4073e37",
   "metadata": {},
   "outputs": [],
   "source": [
    "# Importamos las librerias\n",
    "import numpy as np\n",
    "import pandas as pd\n",
    "import matplotlib.pyplot as plt\n",
    "from mpl_toolkits.mplot3d import Axes3D\n",
    "%matplotlib inline"
   ]
  },
  {
   "cell_type": "markdown",
   "id": "2ec527ef",
   "metadata": {},
   "source": [
    "Leemos el dataFinal creado por nosotros en el notebook Filtracion_Data_Dengue, y establecemos la coma como decimal para que detecte los numeros decimales\n"
   ]
  },
  {
   "cell_type": "code",
   "execution_count": 2,
   "id": "b54ce03a",
   "metadata": {},
   "outputs": [
    {
     "data": {
      "text/html": [
       "<div>\n",
       "<style scoped>\n",
       "    .dataframe tbody tr th:only-of-type {\n",
       "        vertical-align: middle;\n",
       "    }\n",
       "\n",
       "    .dataframe tbody tr th {\n",
       "        vertical-align: top;\n",
       "    }\n",
       "\n",
       "    .dataframe thead th {\n",
       "        text-align: right;\n",
       "    }\n",
       "</style>\n",
       "<table border=\"1\" class=\"dataframe\">\n",
       "  <thead>\n",
       "    <tr style=\"text-align: right;\">\n",
       "      <th></th>\n",
       "      <th>semana</th>\n",
       "      <th>ano</th>\n",
       "      <th>casos</th>\n",
       "      <th>Temp. Media (°C)</th>\n",
       "      <th>Precipitación (mm)</th>\n",
       "      <th>Humedad (%)</th>\n",
       "      <th>PobrezaTotal(%)</th>\n",
       "    </tr>\n",
       "  </thead>\n",
       "  <tbody>\n",
       "    <tr>\n",
       "      <th>0</th>\n",
       "      <td>10</td>\n",
       "      <td>2023</td>\n",
       "      <td>5</td>\n",
       "      <td>25.16</td>\n",
       "      <td>108.06</td>\n",
       "      <td>83.00</td>\n",
       "      <td>14322066.9</td>\n",
       "    </tr>\n",
       "    <tr>\n",
       "      <th>1</th>\n",
       "      <td>11</td>\n",
       "      <td>2023</td>\n",
       "      <td>12</td>\n",
       "      <td>25.46</td>\n",
       "      <td>55.48</td>\n",
       "      <td>84.46</td>\n",
       "      <td>14322066.9</td>\n",
       "    </tr>\n",
       "    <tr>\n",
       "      <th>2</th>\n",
       "      <td>12</td>\n",
       "      <td>2023</td>\n",
       "      <td>43</td>\n",
       "      <td>25.99</td>\n",
       "      <td>62.67</td>\n",
       "      <td>81.69</td>\n",
       "      <td>14322066.9</td>\n",
       "    </tr>\n",
       "    <tr>\n",
       "      <th>3</th>\n",
       "      <td>13</td>\n",
       "      <td>2023</td>\n",
       "      <td>60</td>\n",
       "      <td>25.49</td>\n",
       "      <td>63.02</td>\n",
       "      <td>84.65</td>\n",
       "      <td>14322066.9</td>\n",
       "    </tr>\n",
       "    <tr>\n",
       "      <th>4</th>\n",
       "      <td>14</td>\n",
       "      <td>2023</td>\n",
       "      <td>34</td>\n",
       "      <td>25.12</td>\n",
       "      <td>81.76</td>\n",
       "      <td>89.12</td>\n",
       "      <td>14322066.9</td>\n",
       "    </tr>\n",
       "  </tbody>\n",
       "</table>\n",
       "</div>"
      ],
      "text/plain": [
       "   semana   ano  casos  Temp. Media (°C)  Precipitación (mm)  Humedad (%)  \\\n",
       "0      10  2023      5             25.16              108.06        83.00   \n",
       "1      11  2023     12             25.46               55.48        84.46   \n",
       "2      12  2023     43             25.99               62.67        81.69   \n",
       "3      13  2023     60             25.49               63.02        84.65   \n",
       "4      14  2023     34             25.12               81.76        89.12   \n",
       "\n",
       "   PobrezaTotal(%)  \n",
       "0       14322066.9  \n",
       "1       14322066.9  \n",
       "2       14322066.9  \n",
       "3       14322066.9  \n",
       "4       14322066.9  "
      ]
     },
     "execution_count": 2,
     "metadata": {},
     "output_type": "execute_result"
    }
   ],
   "source": [
    "data = pd.read_csv('dataFinal.csv',decimal=',')\n",
    "data.head()\n"
   ]
  },
  {
   "cell_type": "markdown",
   "id": "3096136c",
   "metadata": {},
   "source": [
    "Seleccionamos las columnas que usaremos como variables. <br>\n",
    "En X utilizaremos la columna semana (columna 0), la columna Temp. Media (°C) (columna 3), la columna Precipitación (mm) (columna 4) y la columna Humedad (%) (columna 5). <br>\n",
    "En Y utilizamos solo la columna casos (columna 2)"
   ]
  },
  {
   "cell_type": "code",
   "execution_count": 3,
   "id": "7cfe44f2",
   "metadata": {},
   "outputs": [],
   "source": [
    "# --- Obtener datos de las columnas (solo valores)\n",
    "X = data.values[:, [0,3,4,5]].astype(float)\n",
    "Y = data.values[:, 2]\n"
   ]
  },
  {
   "cell_type": "markdown",
   "id": "cffca313",
   "metadata": {},
   "source": [
    "Normalizamos los datos para mejorar la manejabilidad de estos, aplicando metodos estadisticos como la media y la desviacion estandar \n"
   ]
  },
  {
   "cell_type": "code",
   "execution_count": 4,
   "id": "fd789ae5",
   "metadata": {},
   "outputs": [
    {
     "name": "stdout",
     "output_type": "stream",
     "text": [
      "La media de X es igual a: [14.         25.41666667 70.29555556 84.50555556]\n",
      "La desviación estandar de X es igual a: [ 2.73861279  0.2897844  21.58509851  2.8337436 ]\n",
      "La matriz X normalizada es igual a: \n",
      "[[-1.46 -0.89  1.75 -0.53]\n",
      " [-1.1   0.15 -0.69 -0.02]\n",
      " [-0.73  1.98 -0.35 -0.99]\n",
      " [-0.37  0.25 -0.34  0.05]\n",
      " [ 0.   -1.02  0.53  1.63]\n",
      " [ 0.37  0.7   0.38  0.74]\n",
      " [ 0.73 -0.47  1.02  0.66]\n",
      " [ 1.1  -1.13 -1.38  0.2 ]\n",
      " [ 1.46  0.43 -0.93 -1.75]]\n"
     ]
    }
   ],
   "source": [
    "# --- Obtener la media\n",
    "mu = np.mean(X, axis = 0)\n",
    "print(\"La media de X es igual a: \"+str(mu))\n",
    "\n",
    "# --- Obtener la desviación estandar\n",
    "sigma = np.std(X, axis= 0, ddof = 1)\n",
    "print(\"La desviación estandar de X es igual a: \"+str(sigma))\n",
    "\n",
    "# --- Obtener la matriz X normalizada\n",
    "X_norm = (X - mu) / sigma\n",
    "print(\"La matriz X normalizada es igual a: \")\n",
    "print(np.around(X_norm,2))\n",
    "#--------------------------------------------------------"
   ]
  },
  {
   "cell_type": "markdown",
   "id": "80510402",
   "metadata": {},
   "source": [
    "Añadimos una columna de 1 que equivale a la columna Y "
   ]
  },
  {
   "cell_type": "code",
   "execution_count": 5,
   "id": "eb985d6b",
   "metadata": {},
   "outputs": [
    {
     "name": "stdout",
     "output_type": "stream",
     "text": [
      "[[ 1.   -1.46 -0.89  1.75 -0.53]\n",
      " [ 1.   -1.1   0.15 -0.69 -0.02]\n",
      " [ 1.   -0.73  1.98 -0.35 -0.99]\n",
      " [ 1.   -0.37  0.25 -0.34  0.05]\n",
      " [ 1.    0.   -1.02  0.53  1.63]\n",
      " [ 1.    0.37  0.7   0.38  0.74]\n",
      " [ 1.    0.73 -0.47  1.02  0.66]\n",
      " [ 1.    1.1  -1.13 -1.38  0.2 ]\n",
      " [ 1.    1.46  0.43 -0.93 -1.75]]\n"
     ]
    }
   ],
   "source": [
    "X_or = X\n",
    "X = np.hstack((np.ones((len(Y),1)), X_norm))\n",
    "print(np.around(X,2))\n"
   ]
  },
  {
   "cell_type": "markdown",
   "id": "ddb65be9",
   "metadata": {},
   "source": [
    "### Proceso de entrenamiento\n",
    "Utilizando el algoritmo de regresion lineal multiple (gradiente descendiente) establecemos nuestros coeficientes de regresion, las variables para almacenar el error, y los parametros de entrenamiento"
   ]
  },
  {
   "cell_type": "code",
   "execution_count": 6,
   "id": "ee82e504",
   "metadata": {},
   "outputs": [],
   "source": [
    "# --- Coeficientes de regresión\n",
    "w = np.zeros(X.shape[1])\n",
    "\n",
    "# --- Parámetros de entrenamiento\n",
    "n = 0.001 # Tamaño de paso (stepsize)\n",
    "epochs = 17000  # Número de iteraciones\n",
    "N = float(len(Y)) # Número de elementos en Y\n",
    "\n",
    "# --- Parámetros de error\n",
    "Error = [0] * epochs\n",
    "T = np.arange(1, epochs + 1)"
   ]
  },
  {
   "cell_type": "code",
   "execution_count": 7,
   "id": "ec2cd2c6",
   "metadata": {},
   "outputs": [],
   "source": [
    "# --- Iteraciones para la gradiente descendiente\n",
    "for i in range(epochs):\n",
    "    \n",
    "    # --- Programar el proceso de entrenamiento\n",
    "    \n",
    "    Y_pred = X.dot(w) #--- Y predecida ---> Hw\n",
    "    error= np.subtract(Y,Y_pred) # error --> Y-Hw\n",
    "    RSS= error.transpose().dot(error) # Desempeño \n",
    "    Error[i]=RSS # ---- almacenamiento del eror\n",
    "    \n",
    "    D_w= -2*X.transpose().dot(error) # error Grdiente sw Rss -2H * rosado\n",
    "    w= w - n*D_w #gradiente desensiente \n",
    "    #--------------------------------------------------------"
   ]
  },
  {
   "cell_type": "markdown",
   "id": "7f9362dd",
   "metadata": {},
   "source": [
    "Visualizamos los resultados del entrenamiento"
   ]
  },
  {
   "cell_type": "code",
   "execution_count": 8,
   "id": "476f35df",
   "metadata": {},
   "outputs": [
    {
     "name": "stdout",
     "output_type": "stream",
     "text": [
      "Resultados del entrenamiento: \n",
      "[ 53.22222222  31.7675351   -4.15950722  -5.72702808 -15.02855857]\n"
     ]
    }
   ],
   "source": [
    "# --- Resultados del entrenamiento\n",
    "print(\"Resultados del entrenamiento: \")\n",
    "print(w)\n",
    "#--------------------------------------------------------"
   ]
  },
  {
   "cell_type": "markdown",
   "id": "42068e46",
   "metadata": {},
   "source": [
    "### Comportamiento del error\n",
    "Verificamos que nuestro error tienda a 0 "
   ]
  },
  {
   "cell_type": "code",
   "execution_count": 9,
   "id": "1e5a6f44",
   "metadata": {},
   "outputs": [
    {
     "data": {
      "image/png": "[encoded data removed]",
      "text/plain": [
       "<Figure size 640x480 with 1 Axes>"
      ]
     },
     "metadata": {},
     "output_type": "display_data"
    },
    {
     "name": "stdout",
     "output_type": "stream",
     "text": [
      "Valor mínimo del error = 728.7410417989433\n"
     ]
    }
   ],
   "source": [
    "# --- Grafica de error\n",
    "\n",
    "plt.plot(T, Error, '-r') # Graficar datos\n",
    "plt.show()\n",
    "Min_E = min(Error)\n",
    "print(\"Valor mínimo del error = \"+str(Min_E))\n",
    "#--------------------------------------------------------"
   ]
  },
  {
   "cell_type": "markdown",
   "id": "843fc3b2",
   "metadata": {},
   "source": [
    "### Predecir valores\n",
    "Para predicir valores ingresamos las caracteristicas de la variable X, el modelo nos devolvera una cantidad aproximada de casos confirmados segun las caracteristicas ingresadas"
   ]
  },
  {
   "cell_type": "code",
   "execution_count": 12,
   "id": "44419f30",
   "metadata": {},
   "outputs": [],
   "source": [
    "# Insertar las varibles\n",
    "semana=10 # semana epidemiologia\n",
    "temperatura=25.16 #temperatura media en grados\n",
    "precipitacion=108.06 #precipitacion en mm\n",
    "humedad=83.00 #humedad en porcentaje \n"
   ]
  },
  {
   "cell_type": "code",
   "execution_count": 13,
   "id": "f6dd9e3c",
   "metadata": {},
   "outputs": [
    {
     "name": "stdout",
     "output_type": "stream",
     "text": [
      "Característica X1 = 10, Característica X2 = 25.16, Característica X3 = 108.06, Característica X4 = 83.0\n",
      " Valor predecido Y = 8.471732142055384\n"
     ]
    }
   ],
   "source": [
    "# --- Predecir valores\n",
    "\n",
    "X1 = semana\n",
    "X2 = temperatura\n",
    "X3 = precipitacion \n",
    "X4 = humedad   \n",
    "\n",
    "# --- Normalizar valores\n",
    "X1_norm = (X1 - mu[0]) / sigma[0]  # Normalizar X1\n",
    "X2_norm = (X2 - mu[1]) / sigma[1]  # Normalizar X2\n",
    "X3_norm = (X3 - mu[2]) / sigma[2]  # Normalizar X3\n",
    "X4_norm = (X4 - mu[3]) / sigma[3]  # Normalizar X4\n",
    "\n",
    "# --- Mostrar valor predecido\n",
    "Y_point = w[0] + w[1]*X1_norm + w[2]*X2_norm + w[3]*X3_norm + w[4]*X4_norm  # Valor en Y\n",
    "print(\"Característica X1 = \" + str(X1) +\n",
    "      \", Característica X2 = \" + str(X2) +\n",
    "      \", Característica X3 = \" + str(X3) +\n",
    "      \", Característica X4 = \" + str(X4))\n",
    "print( \" Valor predecido Y = \" + str(Y_point))\n"
   ]
  },
  {
   "cell_type": "markdown",
   "id": "3f27bb4b",
   "metadata": {},
   "source": [
    "Valor predecido de Y es igual a la prediccion de casos confirmados segun las caracteristicas"
   ]
  }
 ],
 "metadata": {
  "kernelspec": {
   "display_name": "Python 3 (ipykernel)",
   "language": "python",
   "name": "python3"
  },
  "language_info": {
   "codemirror_mode": {
    "name": "ipython",
    "version": 3
   },
   "file_extension": ".py",
   "mimetype": "text/x-python",
   "name": "python",
   "nbconvert_exporter": "python",
   "pygments_lexer": "ipython3",
   "version": "3.11.4"
  }
 },
 "nbformat": 4,
 "nbformat_minor": 5
}
